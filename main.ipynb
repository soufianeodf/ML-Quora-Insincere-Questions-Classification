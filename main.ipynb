{
  "nbformat": 4,
  "nbformat_minor": 0,
  "metadata": {
    "colab": {
      "name": "main.ipynb",
      "provenance": [],
      "collapsed_sections": [],
      "toc_visible": true,
      "mount_file_id": "1pnCYTm8W9zpsy1oNAunoxVrhntJtEIne",
      "authorship_tag": "ABX9TyNmpiavWvMsNgsAfZnMwFeh",
      "include_colab_link": true
    },
    "kernelspec": {
      "name": "python3",
      "display_name": "Python 3"
    }
  },
  "cells": [
    {
      "cell_type": "markdown",
      "metadata": {
        "id": "view-in-github",
        "colab_type": "text"
      },
      "source": [
        "<a href=\"https://colab.research.google.com/github/soufianeodf/Quora-Insincere-Questions-Classification/blob/main/main.ipynb\" target=\"_parent\"><img src=\"https://colab.research.google.com/assets/colab-badge.svg\" alt=\"Open In Colab\"/></a>"
      ]
    },
    {
      "cell_type": "code",
      "metadata": {
        "colab": {
          "base_uri": "https://localhost:8080/",
          "height": 195
        },
        "id": "3ET0cKzS-Zgt",
        "outputId": "0033f888-f92f-4bda-8ce4-9a725f940d84"
      },
      "source": [
        "import numpy as np\r\n",
        "import pandas as pd\r\n",
        "%matplotlib inline\r\n",
        "\r\n",
        "train_df = pd.read_csv('/content/drive/MyDrive/Colab Notebooks/quora competition/train.csv')\r\n",
        "train_df.head()"
      ],
      "execution_count": 163,
      "outputs": [
        {
          "output_type": "execute_result",
          "data": {
            "text/html": [
              "<div>\n",
              "<style scoped>\n",
              "    .dataframe tbody tr th:only-of-type {\n",
              "        vertical-align: middle;\n",
              "    }\n",
              "\n",
              "    .dataframe tbody tr th {\n",
              "        vertical-align: top;\n",
              "    }\n",
              "\n",
              "    .dataframe thead th {\n",
              "        text-align: right;\n",
              "    }\n",
              "</style>\n",
              "<table border=\"1\" class=\"dataframe\">\n",
              "  <thead>\n",
              "    <tr style=\"text-align: right;\">\n",
              "      <th></th>\n",
              "      <th>qid</th>\n",
              "      <th>question_text</th>\n",
              "      <th>target</th>\n",
              "    </tr>\n",
              "  </thead>\n",
              "  <tbody>\n",
              "    <tr>\n",
              "      <th>0</th>\n",
              "      <td>00002165364db923c7e6</td>\n",
              "      <td>How did Quebec nationalists see their province...</td>\n",
              "      <td>0</td>\n",
              "    </tr>\n",
              "    <tr>\n",
              "      <th>1</th>\n",
              "      <td>000032939017120e6e44</td>\n",
              "      <td>Do you have an adopted dog, how would you enco...</td>\n",
              "      <td>0</td>\n",
              "    </tr>\n",
              "    <tr>\n",
              "      <th>2</th>\n",
              "      <td>0000412ca6e4628ce2cf</td>\n",
              "      <td>Why does velocity affect time? Does velocity a...</td>\n",
              "      <td>0</td>\n",
              "    </tr>\n",
              "    <tr>\n",
              "      <th>3</th>\n",
              "      <td>000042bf85aa498cd78e</td>\n",
              "      <td>How did Otto von Guericke used the Magdeburg h...</td>\n",
              "      <td>0</td>\n",
              "    </tr>\n",
              "    <tr>\n",
              "      <th>4</th>\n",
              "      <td>0000455dfa3e01eae3af</td>\n",
              "      <td>Can I convert montra helicon D to a mountain b...</td>\n",
              "      <td>0</td>\n",
              "    </tr>\n",
              "  </tbody>\n",
              "</table>\n",
              "</div>"
            ],
            "text/plain": [
              "                    qid  ... target\n",
              "0  00002165364db923c7e6  ...      0\n",
              "1  000032939017120e6e44  ...      0\n",
              "2  0000412ca6e4628ce2cf  ...      0\n",
              "3  000042bf85aa498cd78e  ...      0\n",
              "4  0000455dfa3e01eae3af  ...      0\n",
              "\n",
              "[5 rows x 3 columns]"
            ]
          },
          "metadata": {
            "tags": []
          },
          "execution_count": 163
        }
      ]
    },
    {
      "cell_type": "code",
      "metadata": {
        "colab": {
          "base_uri": "https://localhost:8080/"
        },
        "id": "Tt2kKTyaa2pT",
        "outputId": "39eebc82-d95e-4f71-b6ea-3d7d891bfa7d"
      },
      "source": [
        "len(train_df)"
      ],
      "execution_count": 164,
      "outputs": [
        {
          "output_type": "execute_result",
          "data": {
            "text/plain": [
              "1306122"
            ]
          },
          "metadata": {
            "tags": []
          },
          "execution_count": 164
        }
      ]
    },
    {
      "cell_type": "markdown",
      "metadata": {
        "id": "QkC4JJRMvfv9"
      },
      "source": [
        "### **Check for missing values:**"
      ]
    },
    {
      "cell_type": "code",
      "metadata": {
        "colab": {
          "base_uri": "https://localhost:8080/"
        },
        "id": "BUcWInirvefR",
        "outputId": "e01d3528-beaf-4104-f2e8-a402e5a51ab9"
      },
      "source": [
        "train_df.isnull().sum()"
      ],
      "execution_count": 166,
      "outputs": [
        {
          "output_type": "execute_result",
          "data": {
            "text/plain": [
              "qid              0\n",
              "question_text    0\n",
              "target           0\n",
              "dtype: int64"
            ]
          },
          "metadata": {
            "tags": []
          },
          "execution_count": 166
        }
      ]
    },
    {
      "cell_type": "markdown",
      "metadata": {
        "id": "LjCBHwtI5_-x"
      },
      "source": [
        "### **Check for empty strings:**"
      ]
    },
    {
      "cell_type": "code",
      "metadata": {
        "colab": {
          "base_uri": "https://localhost:8080/"
        },
        "id": "AnVL1S6p5STp",
        "outputId": "ec410023-2ac5-4941-95e4-6df2ee9b31c4"
      },
      "source": [
        "blanks = []  # start with an empty list\r\n",
        "\r\n",
        "for i, qid, question_text, target in train_df.itertuples():  # iterate over the DataFrame\r\n",
        "    if type(target)==str:            # avoid NaN values\r\n",
        "        if target.isspace():         # test 'review' for whitespace\r\n",
        "            blanks.append(i)     # add matching index numbers to the list\r\n",
        "        \r\n",
        "print(len(blanks), 'blanks: ', blanks)"
      ],
      "execution_count": 167,
      "outputs": [
        {
          "output_type": "stream",
          "text": [
            "0 blanks:  []\n"
          ],
          "name": "stdout"
        }
      ]
    },
    {
      "cell_type": "code",
      "metadata": {
        "colab": {
          "base_uri": "https://localhost:8080/"
        },
        "id": "aFlUjPjyvvqY",
        "outputId": "771460d6-5c6a-4c70-c7eb-3524e67c8c58"
      },
      "source": [
        "train_df['target'].value_counts()"
      ],
      "execution_count": 168,
      "outputs": [
        {
          "output_type": "execute_result",
          "data": {
            "text/plain": [
              "0    1225312\n",
              "1      80810\n",
              "Name: target, dtype: int64"
            ]
          },
          "metadata": {
            "tags": []
          },
          "execution_count": 168
        }
      ]
    },
    {
      "cell_type": "markdown",
      "metadata": {
        "id": "ZACKWOp9wW67"
      },
      "source": [
        "<font color=green>We see that 1225312 out of 1306122 questions, or 93.8%, are sincere questions.<br>This means that any machine learning model we create has to perform **better than 93.8%** to beat random chance.</font>"
      ]
    },
    {
      "cell_type": "code",
      "metadata": {
        "colab": {
          "base_uri": "https://localhost:8080/",
          "height": 293
        },
        "id": "0wi1w012wJMx",
        "outputId": "130ec684-c9bc-4595-b395-eb4fd3dcd1a7"
      },
      "source": [
        "train_df['target'].hist(bins=10)"
      ],
      "execution_count": 169,
      "outputs": [
        {
          "output_type": "execute_result",
          "data": {
            "text/plain": [
              "<matplotlib.axes._subplots.AxesSubplot at 0x7fa896f22d68>"
            ]
          },
          "metadata": {
            "tags": []
          },
          "execution_count": 169
        },
        {
          "output_type": "display_data",
          "data": {
            "image/png": "[encoded data removed]",
            "text/plain": [
              "<Figure size 432x288 with 1 Axes>"
            ]
          },
          "metadata": {
            "tags": [],
            "needs_background": "light"
          }
        }
      ]
    },
    {
      "cell_type": "markdown",
      "metadata": {
        "id": "638k8HEbzPEP"
      },
      "source": [
        "___\r\n",
        "# Split the data into train & test sets:"
      ]
    },
    {
      "cell_type": "markdown",
      "metadata": {
        "id": "IEsUWnL2z0Eu"
      },
      "source": [
        "## Selecting features"
      ]
    },
    {
      "cell_type": "code",
      "metadata": {
        "id": "bldms2LnzNiV"
      },
      "source": [
        "X = train_df['question_text']\r\n",
        "y = train_df['target']"
      ],
      "execution_count": 170,
      "outputs": []
    },
    {
      "cell_type": "markdown",
      "metadata": {
        "id": "uCBxLa1Yz2uf"
      },
      "source": [
        "## Additional train/test/split arguments:\r\n",
        "The default test size for `train_test_split` is 30%. Here we'll assign 33% of the data for testing.<br>\r\n",
        "Also, we can set a `random_state`."
      ]
    },
    {
      "cell_type": "code",
      "metadata": {
        "colab": {
          "base_uri": "https://localhost:8080/"
        },
        "id": "Jwq2X2KmzsD_",
        "outputId": "e6cab10f-cc5f-426d-f02a-7ee408cc857e"
      },
      "source": [
        "from sklearn.model_selection import train_test_split\r\n",
        "\r\n",
        "X_train, X_test, y_train, y_test = train_test_split(X, y, test_size=0.1, random_state=42)\r\n",
        "\r\n",
        "print('Training Data Shape:', X_train.shape)\r\n",
        "print('Testing Data Shape: ', X_test.shape)"
      ],
      "execution_count": 171,
      "outputs": [
        {
          "output_type": "stream",
          "text": [
            "Training Data Shape: (1175509,)\n",
            "Testing Data Shape:  (130613,)\n"
          ],
          "name": "stdout"
        }
      ]
    },
    {
      "cell_type": "markdown",
      "metadata": {
        "id": "4NNoH8ax01uG"
      },
      "source": [
        "## Scikit-learn's CountVectorizer\r\n",
        "Text preprocessing, tokenizing and the ability to filter out stopwords are all included in [CountVectorizer](https://scikit-learn.org/stable/modules/generated/sklearn.feature_extraction.text.CountVectorizer.html), which builds a dictionary of features and transforms documents to feature vectors."
      ]
    },
    {
      "cell_type": "code",
      "metadata": {
        "colab": {
          "base_uri": "https://localhost:8080/"
        },
        "id": "PtSZ0LGu022u",
        "outputId": "1f9f2f8e-38f5-4c8b-fa12-bfdf28458355"
      },
      "source": [
        "from sklearn.feature_extraction.text import CountVectorizer\r\n",
        "count_vect = CountVectorizer()\r\n",
        "\r\n",
        "X_train_counts = count_vect.fit_transform(X_train)\r\n",
        "X_train_counts.shape"
      ],
      "execution_count": 172,
      "outputs": [
        {
          "output_type": "execute_result",
          "data": {
            "text/plain": [
              "(1175509, 184450)"
            ]
          },
          "metadata": {
            "tags": []
          },
          "execution_count": 172
        }
      ]
    },
    {
      "cell_type": "markdown",
      "metadata": {
        "id": "R8S0ZOHJ2Jnf"
      },
      "source": [
        "## Transform Counts to Frequencies with Tf-idf\r\n",
        "While counting words is helpful, longer documents will have higher average count values than shorter documents, even though they might talk about the same topics.\r\n",
        "\r\n",
        "To avoid this we can simply divide the number of occurrences of each word in a document by the total number of words in the document: these new features are called **tf** for Term Frequencies.\r\n",
        "\r\n",
        "Another refinement on top of **tf** is to downscale weights for words that occur in many documents in the corpus and are therefore less informative than those that occur only in a smaller portion of the corpus.\r\n",
        "\r\n",
        "This downscaling is called **tf–idf** for “Term Frequency times Inverse Document Frequency”.\r\n",
        "\r\n",
        "Both tf and tf–idf can be computed as follows using [TfidfTransformer](https://scikit-learn.org/stable/modules/generated/sklearn.feature_extraction.text.TfidfTransformer.html):"
      ]
    },
    {
      "cell_type": "code",
      "metadata": {
        "colab": {
          "base_uri": "https://localhost:8080/"
        },
        "id": "PgC9tfu-2O1e",
        "outputId": "16581c1c-b6e1-4a4b-bc66-a2bf6b987e22"
      },
      "source": [
        "from sklearn.feature_extraction.text import TfidfTransformer\r\n",
        "tfidf_transformer = TfidfTransformer()\r\n",
        "\r\n",
        "X_train_tfidf = tfidf_transformer.fit_transform(X_train_counts)\r\n",
        "X_train_tfidf.shape"
      ],
      "execution_count": 173,
      "outputs": [
        {
          "output_type": "execute_result",
          "data": {
            "text/plain": [
              "(1175509, 184450)"
            ]
          },
          "metadata": {
            "tags": []
          },
          "execution_count": 173
        }
      ]
    },
    {
      "cell_type": "markdown",
      "metadata": {
        "id": "v328DyEW22A2"
      },
      "source": [
        "Note: the `fit_transform()` method actually performs two operations: it fits an estimator to the data and then transforms our count-matrix to a tf-idf representation."
      ]
    },
    {
      "cell_type": "markdown",
      "metadata": {
        "id": "6ravW2nQ256p"
      },
      "source": [
        "## Combine Steps with TfidVectorizer\r\n",
        "In the future, we can combine the CountVectorizer and TfidTransformer steps into one using [TfidVectorizer](https://scikit-learn.org/stable/modules/generated/sklearn.feature_extraction.text.TfidfVectorizer.html):"
      ]
    },
    {
      "cell_type": "code",
      "metadata": {
        "colab": {
          "base_uri": "https://localhost:8080/"
        },
        "id": "GFLJoUzI22xe",
        "outputId": "a3f9dae9-61b6-4db3-a922-9fd2db48841b"
      },
      "source": [
        "from sklearn.feature_extraction.text import TfidfVectorizer\r\n",
        "vectorizer = TfidfVectorizer()\r\n",
        "\r\n",
        "X_train_tfidf = vectorizer.fit_transform(X_train) # remember to use the original X_train set\r\n",
        "X_train_tfidf.shape"
      ],
      "execution_count": 174,
      "outputs": [
        {
          "output_type": "execute_result",
          "data": {
            "text/plain": [
              "(1175509, 184450)"
            ]
          },
          "metadata": {
            "tags": []
          },
          "execution_count": 174
        }
      ]
    },
    {
      "cell_type": "markdown",
      "metadata": {
        "id": "ikkJsCTc3Ine"
      },
      "source": [
        "## Train a Classifier\r\n",
        "Here we'll introduce an SVM classifier, called [LinearSVC](https://scikit-learn.org/stable/modules/generated/sklearn.svm.LinearSVC.html). LinearSVC handles sparse input better, and scales well to large numbers of samples."
      ]
    },
    {
      "cell_type": "code",
      "metadata": {
        "colab": {
          "base_uri": "https://localhost:8080/"
        },
        "id": "2Fy2Q5Sy3LKG",
        "outputId": "398675c4-34d4-4f22-82f0-cd28898568d5"
      },
      "source": [
        "from sklearn.svm import LinearSVC\r\n",
        "clf = LinearSVC()\r\n",
        "clf.fit(X_train_tfidf,y_train)"
      ],
      "execution_count": 175,
      "outputs": [
        {
          "output_type": "execute_result",
          "data": {
            "text/plain": [
              "LinearSVC(C=1.0, class_weight=None, dual=True, fit_intercept=True,\n",
              "          intercept_scaling=1, loss='squared_hinge', max_iter=1000,\n",
              "          multi_class='ovr', penalty='l2', random_state=None, tol=0.0001,\n",
              "          verbose=0)"
            ]
          },
          "metadata": {
            "tags": []
          },
          "execution_count": 175
        }
      ]
    },
    {
      "cell_type": "markdown",
      "metadata": {
        "id": "iy_6BpQz3UC2"
      },
      "source": [
        "## Build a Pipeline\r\n",
        "Remember that only our training set has been vectorized into a full vocabulary. In order to perform an analysis on our test set we'll have to submit it to the same procedures. Fortunately scikit-learn offers a [**Pipeline**](https://scikit-learn.org/stable/modules/generated/sklearn.pipeline.Pipeline.html) class that behaves like a compound classifier."
      ]
    },
    {
      "cell_type": "code",
      "metadata": {
        "colab": {
          "base_uri": "https://localhost:8080/"
        },
        "id": "sI-gAIqf3UrZ",
        "outputId": "db0a36c8-0195-4dae-9f49-848d7d2e7390"
      },
      "source": [
        "from sklearn.pipeline import Pipeline\r\n",
        "\r\n",
        "text_clf = Pipeline([('tfidf', TfidfVectorizer()),\r\n",
        "                     ('clf', LinearSVC()),\r\n",
        "])\r\n",
        "\r\n",
        "# Feed the training data through the pipeline\r\n",
        "text_clf.fit(X_train, y_train)  "
      ],
      "execution_count": 176,
      "outputs": [
        {
          "output_type": "execute_result",
          "data": {
            "text/plain": [
              "Pipeline(memory=None,\n",
              "         steps=[('tfidf',\n",
              "                 TfidfVectorizer(analyzer='word', binary=False,\n",
              "                                 decode_error='strict',\n",
              "                                 dtype=<class 'numpy.float64'>,\n",
              "                                 encoding='utf-8', input='content',\n",
              "                                 lowercase=True, max_df=1.0, max_features=None,\n",
              "                                 min_df=1, ngram_range=(1, 1), norm='l2',\n",
              "                                 preprocessor=None, smooth_idf=True,\n",
              "                                 stop_words=None, strip_accents=None,\n",
              "                                 sublinear_tf=False,\n",
              "                                 token_pattern='(?u)\\\\b\\\\w\\\\w+\\\\b',\n",
              "                                 tokenizer=None, use_idf=True,\n",
              "                                 vocabulary=None)),\n",
              "                ('clf',\n",
              "                 LinearSVC(C=1.0, class_weight=None, dual=True,\n",
              "                           fit_intercept=True, intercept_scaling=1,\n",
              "                           loss='squared_hinge', max_iter=1000,\n",
              "                           multi_class='ovr', penalty='l2', random_state=None,\n",
              "                           tol=0.0001, verbose=0))],\n",
              "         verbose=False)"
            ]
          },
          "metadata": {
            "tags": []
          },
          "execution_count": 176
        }
      ]
    },
    {
      "cell_type": "markdown",
      "metadata": {
        "id": "3sqSugGt4CT-"
      },
      "source": [
        "## Test the classifier and display results"
      ]
    },
    {
      "cell_type": "code",
      "metadata": {
        "id": "wjZh_6EX4CwW"
      },
      "source": [
        "# Form a prediction set\r\n",
        "predictions = text_clf.predict(X_test)"
      ],
      "execution_count": 177,
      "outputs": []
    },
    {
      "cell_type": "code",
      "metadata": {
        "colab": {
          "base_uri": "https://localhost:8080/"
        },
        "id": "LbRv2KSb4ETc",
        "outputId": "1265b145-c562-47a8-87df-fd5bc09d7b7c"
      },
      "source": [
        "# Report the confusion matrix\r\n",
        "from sklearn import metrics\r\n",
        "print(metrics.confusion_matrix(y_test,predictions))"
      ],
      "execution_count": 178,
      "outputs": [
        {
          "output_type": "stream",
          "text": [
            "[[121204   1544]\n",
            " [  4280   3585]]\n"
          ],
          "name": "stdout"
        }
      ]
    },
    {
      "cell_type": "code",
      "metadata": {
        "colab": {
          "base_uri": "https://localhost:8080/"
        },
        "id": "iS_aHIG04Lq-",
        "outputId": "5d3a74a0-8b69-4cf2-84af-73c31f054f1d"
      },
      "source": [
        "# Print a classification report\r\n",
        "print(metrics.classification_report(y_test,predictions))"
      ],
      "execution_count": 179,
      "outputs": [
        {
          "output_type": "stream",
          "text": [
            "              precision    recall  f1-score   support\n",
            "\n",
            "           0       0.97      0.99      0.98    122748\n",
            "           1       0.70      0.46      0.55      7865\n",
            "\n",
            "    accuracy                           0.96    130613\n",
            "   macro avg       0.83      0.72      0.76    130613\n",
            "weighted avg       0.95      0.96      0.95    130613\n",
            "\n"
          ],
          "name": "stdout"
        }
      ]
    },
    {
      "cell_type": "code",
      "metadata": {
        "colab": {
          "base_uri": "https://localhost:8080/"
        },
        "id": "CPv8rIch4nJu",
        "outputId": "9e59b120-9a88-41b6-84ab-059cdee85b10"
      },
      "source": [
        "# Print the overall accuracy\r\n",
        "print(metrics.accuracy_score(y_test,predictions))"
      ],
      "execution_count": 180,
      "outputs": [
        {
          "output_type": "stream",
          "text": [
            "0.9554102577844472\n"
          ],
          "name": "stdout"
        }
      ]
    }
  ]
}